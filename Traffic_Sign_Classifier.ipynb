{
 "cells": [
  {
   "cell_type": "markdown",
   "metadata": {},
   "source": [
    "# Self-Driving Car Engineer Nanodegree\n",
    "\n",
    "## Deep Learning\n",
    "\n",
    "## Project: Build a Traffic Sign Recognition Classifier\n",
    "\n",
    "In this notebook, a template is provided for you to implement your functionality in stages, which is required to successfully complete this project. If additional code is required that cannot be included in the notebook, be sure that the Python code is successfully imported and included in your submission if necessary. \n",
    "\n",
    "> **Note**: Once you have completed all of the code implementations, you need to finalize your work by exporting the iPython Notebook as an HTML document. Before exporting the notebook to html, all of the code cells need to have been run so that reviewers can see the final implementation and output. You can then export the notebook by using the menu above and navigating to  \\n\",\n",
    "    \"**File -> Download as -> HTML (.html)**. Include the finished document along with this notebook as your submission. \n",
    "\n",
    "In addition to implementing code, there is a writeup to complete. The writeup should be completed in a separate file, which can be either a markdown file or a pdf document. There is a [write up template](https://github.com/udacity/CarND-Traffic-Sign-Classifier-Project/blob/master/writeup_template.md) that can be used to guide the writing process. Completing the code template and writeup template will cover all of the [rubric points](https://review.udacity.com/#!/rubrics/481/view) for this project.\n",
    "\n",
    "The [rubric](https://review.udacity.com/#!/rubrics/481/view) contains \"Stand Out Suggestions\" for enhancing the project beyond the minimum requirements. The stand out suggestions are optional. If you decide to pursue the \"stand out suggestions\", you can include the code in this Ipython notebook and also discuss the results in the writeup file.\n",
    "\n",
    "\n",
    ">**Note:** Code and Markdown cells can be executed using the **Shift + Enter** keyboard shortcut. In addition, Markdown cells can be edited by typically double-clicking the cell to enter edit mode."
   ]
  },
  {
   "cell_type": "markdown",
   "metadata": {},
   "source": [
    "---\n",
    "## Step 0: Load The Data"
   ]
  },
  {
   "cell_type": "code",
   "execution_count": 1,
   "metadata": {},
   "outputs": [],
   "source": [
    "# Load pickled data\n",
    "import pickle\n",
    "\n",
    "#loading data set, not available in the github repository due to size constraints, Check README and/or Writeup\n",
    "training_file = 'traffic-signs-data/train.p'\n",
    "validation_file= 'traffic-signs-data/valid.p'\n",
    "testing_file = 'traffic-signs-data/test.p'\n",
    "\n",
    "with open(training_file, mode='rb') as f:\n",
    "    train = pickle.load(f)\n",
    "with open(validation_file, mode='rb') as f:\n",
    "    valid = pickle.load(f)\n",
    "with open(testing_file, mode='rb') as f:\n",
    "    test = pickle.load(f)\n",
    "    \n",
    "X_train, y_train = train['features'], train['labels']\n",
    "X_valid, y_valid = valid['features'], valid['labels']\n",
    "X_test, y_test = test['features'], test['labels']\n"
   ]
  },
  {
   "cell_type": "markdown",
   "metadata": {},
   "source": [
    "---\n",
    "\n",
    "## Step 1: Dataset Summary & Exploration\n",
    "\n",
    "The pickled data is a dictionary with 4 key/value pairs:\n",
    "\n",
    "- `'features'` is a 4D array containing raw pixel data of the traffic sign images, (num examples, width, height, channels).\n",
    "- `'labels'` is a 1D array containing the label/class id of the traffic sign. The file `signnames.csv` contains id -> name mappings for each id.\n",
    "- `'sizes'` is a list containing tuples, (width, height) representing the original width and height the image.\n",
    "- `'coords'` is a list containing tuples, (x1, y1, x2, y2) representing coordinates of a bounding box around the sign in the image. **THESE COORDINATES ASSUME THE ORIGINAL IMAGE. THE PICKLED DATA CONTAINS RESIZED VERSIONS (32 by 32) OF THESE IMAGES**\n",
    "\n",
    "Complete the basic data summary below. Use python, numpy and/or pandas methods to calculate the data summary rather than hard coding the results. For example, the [pandas shape method](http://pandas.pydata.org/pandas-docs/stable/generated/pandas.DataFrame.shape.html) might be useful for calculating some of the summary results. "
   ]
  },
  {
   "cell_type": "markdown",
   "metadata": {},
   "source": [
    "### Provide a Basic Summary of the Data Set Using Python, Numpy and/or Pandas"
   ]
  },
  {
   "cell_type": "code",
   "execution_count": 2,
   "metadata": {},
   "outputs": [
    {
     "name": "stdout",
     "output_type": "stream",
     "text": [
      "Number of training examples = 34799\n",
      "Number of validation examples = 4410\n",
      "Number of testing examples = 12630\n",
      "Image data shape = (32, 32, 3)\n",
      "Number of classes = 43\n"
     ]
    }
   ],
   "source": [
    "import numpy as np \n",
    "\n",
    "#Number of training examples\n",
    "n_train = len(X_train)\n",
    "\n",
    "#Number of validation examples\n",
    "n_validation = len(X_valid)\n",
    "\n",
    "#Number of testing examples.\n",
    "n_test = len(X_test)\n",
    "\n",
    "#the shape of an traffic sign image\n",
    "image_shape = X_test[0].shape\n",
    "\n",
    "#number of unique classes/labels there are in the dataset.\n",
    "n_classes = np.amax([np.amax(y_train), np.amax(y_valid), np.amax(y_test)]) - np.amin([np.amin(y_train), np.amin(y_valid), np.amin(y_test)]) + 1\n",
    "\n",
    "\n",
    "print(\"Number of training examples =\", n_train)\n",
    "print(\"Number of validation examples =\", n_validation)\n",
    "print(\"Number of testing examples =\", n_test)\n",
    "print(\"Image data shape =\", image_shape)\n",
    "print(\"Number of classes =\", n_classes)"
   ]
  },
  {
   "cell_type": "markdown",
   "metadata": {},
   "source": [
    "### Include an exploratory visualization of the dataset"
   ]
  },
  {
   "cell_type": "markdown",
   "metadata": {},
   "source": [
    "Visualize the German Traffic Signs Dataset using the pickled file(s). This is open ended, suggestions include: plotting traffic sign images, plotting the count of each sign, etc. \n",
    "\n",
    "The [Matplotlib](http://matplotlib.org/) [examples](http://matplotlib.org/examples/index.html) and [gallery](http://matplotlib.org/gallery.html) pages are a great resource for doing visualizations in Python.\n",
    "\n",
    "**NOTE:** It's recommended you start with something simple first. If you wish to do more, come back to it after you've completed the rest of the sections. It can be interesting to look at the distribution of classes in the training, validation and test set. Is the distribution the same? Are there more examples of some classes than others?"
   ]
  },
  {
   "cell_type": "code",
   "execution_count": 3,
   "metadata": {},
   "outputs": [
    {
     "data": {
      "text/plain": [
       "<matplotlib.figure.Figure at 0x22f25c0b6a0>"
      ]
     },
     "metadata": {},
     "output_type": "display_data"
    }
   ],
   "source": [
    "### Data exploration visualization\n",
    "import matplotlib.pyplot as plt\n",
    "import random\n",
    "import math \n",
    "\n",
    "n_visualize = 9 #number of images to be plotted\n",
    "n_columns = 3 #number of columns in the figure\n",
    "n_rows = math.ceil(n_visualize/n_columns) #number of rows in the figure\n",
    "\n",
    "plt.figure(figsize=(15,15))\n",
    "plt.suptitle('Training set samples', fontsize=16)\n",
    "\n",
    "for i in range(n_visualize):\n",
    "    index = random.randint(0,n_train-1)\n",
    "    plt.subplot(n_rows, n_columns, i+1)\n",
    "    plt.imshow(X_train[index])\n",
    "    plt.title(('image:'+ str(index) +', label = ' + str(y_train[index])))\n",
    "\n",
    "    \n",
    "# Visualizations will be shown in the notebook.\n",
    "#%matplotlib inline\n",
    "plt.subplots_adjust(top=0.95)\n",
    "plt.savefig('Images/sample_data.jpg')\n",
    "plt.show()"
   ]
  },
  {
   "cell_type": "code",
   "execution_count": 4,
   "metadata": {},
   "outputs": [
    {
     "data": {
      "image/png": "[encoded data removed]",
      "text/plain": [
       "<matplotlib.figure.Figure at 0x22f2808afd0>"
      ]
     },
     "metadata": {
      "needs_background": "light"
     },
     "output_type": "display_data"
    }
   ],
   "source": [
    "#show number of examples for each label in training set\n",
    "labelCounter = [0] * n_classes\n",
    "\n",
    "for i in range(n_train):\n",
    "    labelCounter[y_train[i]] += 1\n",
    "\n",
    "plt.figure(figsize=(15,15))\n",
    "plt.bar(range(n_classes), labelCounter)\n",
    "plt.title('Number of occurance of each label in training set')\n",
    "plt.xlabel('label')\n",
    "plt.ylabel('repitations')\n",
    "\n",
    "plt.savefig('Images/training_set_bar.jpg')\n",
    "plt.show()"
   ]
  },
  {
   "cell_type": "markdown",
   "metadata": {},
   "source": [
    "----\n",
    "\n",
    "## Step 2: Design and Test a Model Architecture\n",
    "\n",
    "Design and implement a deep learning model that learns to recognize traffic signs. Train and test your model on the [German Traffic Sign Dataset](http://benchmark.ini.rub.de/?section=gtsrb&subsection=dataset).\n",
    "\n",
    "The LeNet-5 implementation shown in the [classroom](https://classroom.udacity.com/nanodegrees/nd013/parts/fbf77062-5703-404e-b60c-95b78b2f3f9e/modules/6df7ae49-c61c-4bb2-a23e-6527e69209ec/lessons/601ae704-1035-4287-8b11-e2c2716217ad/concepts/d4aca031-508f-4e0b-b493-e7b706120f81) at the end of the CNN lesson is a solid starting point. You'll have to change the number of classes and possibly the preprocessing, but aside from that it's plug and play! \n",
    "\n",
    "With the LeNet-5 solution from the lecture, you should expect a validation set accuracy of about 0.89. To meet specifications, the validation set accuracy will need to be at least 0.93. It is possible to get an even higher accuracy, but 0.93 is the minimum for a successful project submission. \n",
    "\n",
    "There are various aspects to consider when thinking about this problem:\n",
    "\n",
    "- Neural network architecture (is the network over or underfitting?)\n",
    "- Play around preprocessing techniques (normalization, rgb to grayscale, etc)\n",
    "- Number of examples per label (some have more than others).\n",
    "- Generate fake data.\n",
    "\n",
    "Here is an example of a [published baseline model on this problem](http://yann.lecun.com/exdb/publis/pdf/sermanet-ijcnn-11.pdf). It's not required to be familiar with the approach used in the paper but, it's good practice to try to read papers like these."
   ]
  },
  {
   "cell_type": "code",
   "execution_count": null,
   "metadata": {},
   "outputs": [],
   "source": [
    "#Applying data augmentation \n",
    "import image_edit\n",
    "\n",
    "aug_min = 600 #minimum number of samples for each label\n",
    "n_aug = 20 #number of augmented editions to each label if they exceed the minimum\n",
    "\n",
    "\n",
    "#list for the indices of original image and the augmented version\n",
    "org2aug_index = []\n",
    "\n",
    "for i in range(n_classes):\n",
    "    #creating augmented versions\n",
    "    #if the label has low number of samples\n",
    "    while(labelCounter[i] < aug_min):\n",
    "        indices = []\n",
    "        indices = np.where(y_train==i)[0]\n",
    "        index2aug = random.choice(indices)\n",
    "        img2aug = X_train[index2aug]\n",
    "        X_train = np.insert(X_train, n_train, image_edit.augment_img(img2aug), axis=0)\n",
    "        y_train = np.insert(y_train, n_train, i, axis=0)\n",
    "        org2aug_index.append([index2aug, n_train])\n",
    "        labelCounter[i] += 1\n",
    "        n_train += 1  \n",
    "    else:\n",
    "        #create some augmented versions even for labels with a lot of samples\n",
    "        for j in range(n_aug):\n",
    "            indices = []\n",
    "            indices = np.where(y_train==i)[0]\n",
    "            index2aug = random.choice(indices)\n",
    "            img2aug = X_train[index2aug]\n",
    "            X_train = np.insert(X_train, n_train, image_edit.augment_img(img2aug), axis=0)\n",
    "            y_train = np.insert(y_train, n_train, i, axis=0)\n",
    "            org2aug_index.append([index2aug, n_train])\n",
    "            labelCounter[i] += 1\n",
    "            n_train += 1   \n"
   ]
  },
  {
   "cell_type": "code",
   "execution_count": null,
   "metadata": {},
   "outputs": [],
   "source": [
    "#Show random samples of original training set images and augmented versions\n",
    "\n",
    "plt.figure(figsize=(15,15))\n",
    "plt.suptitle('Data Augmentation Sample', fontsize=16)\n",
    "\n",
    "#number of original/augmented samples to show\n",
    "n_show = 4\n",
    "\n",
    "for i in range(n_show):\n",
    "    #obtain random original and augmented image\n",
    "    index = random.randint(0,len(org2aug_index)-1)\n",
    "    org2aug = org2aug_index[index]\n",
    "    org_img = X_train[org2aug[0]]\n",
    "    aug_img = X_train[org2aug[1]]\n",
    "    \n",
    "    #show the images\n",
    "    plt.subplot(n_show,2, (2*i)+1)\n",
    "    plt.imshow(org_img)\n",
    "    plt.title('Original Image {}'.format(i+1))\n",
    "    plt.subplot(n_show,2, (2*i)+2)\n",
    "    plt.imshow(aug_img)\n",
    "    plt.title('Augmented Image {}'.format(i+1))\n",
    "    \n",
    "plt.subplots_adjust(top=0.95)\n",
    "plt.savefig('Images/data_aug_sample.jpg')\n",
    "plt.show()    "
   ]
  },
  {
   "cell_type": "code",
   "execution_count": null,
   "metadata": {},
   "outputs": [],
   "source": [
    "#show number of examples for each label in training set after augmentation\n",
    "labelCounter = [0] * n_classes\n",
    "\n",
    "for i in range(n_train):\n",
    "    labelCounter[y_train[i]] += 1\n",
    "\n",
    "plt.figure(figsize=(15,15))\n",
    "plt.bar(range(n_classes), labelCounter)\n",
    "plt.title('Number of occurance of each label in training set after augmentation')\n",
    "plt.xlabel('label')\n",
    "plt.ylabel('repitations')\n",
    "\n",
    "plt.savefig('Images/training_augmented_set_bar.jpg')\n",
    "plt.show()"
   ]
  },
  {
   "cell_type": "markdown",
   "metadata": {},
   "source": [
    "### Pre-process the Data Set (normalization, grayscale, etc.)"
   ]
  },
  {
   "cell_type": "markdown",
   "metadata": {},
   "source": [
    "Minimally, the image data should be normalized so that the data has mean zero and equal variance. For image data, `(pixel - 128)/ 128` is a quick way to approximately normalize the data and can be used in this project. \n",
    "\n",
    "Other pre-processing steps are optional. You can try different techniques to see if it improves performance. \n",
    "\n",
    "Use the code cell (or multiple code cells, if necessary) to implement the first step of your project."
   ]
  },
  {
   "cell_type": "code",
   "execution_count": 5,
   "metadata": {},
   "outputs": [
    {
     "data": {
      "image/png": "[encoded data removed]",
      "text/plain": [
       "<matplotlib.figure.Figure at 0x22f29191518>"
      ]
     },
     "metadata": {
      "needs_background": "light"
     },
     "output_type": "display_data"
    }
   ],
   "source": [
    "#Show Grayscaling samples\n",
    "from image_edit import rgb2gray\n",
    "\n",
    "plt.figure(figsize=(15,15))\n",
    "plt.suptitle('Grayscaling sample', fontsize=16)\n",
    "\n",
    "#number of original/grayscales samples to show\n",
    "n_show = 4\n",
    "\n",
    "for i in range(n_show):\n",
    "    #obtain random image\n",
    "    index = random.randint(0,n_train-1)\n",
    "    img = X_train[index]\n",
    "    \n",
    "    #show the original/grayscaled images\n",
    "    plt.subplot(n_show,2, (2*i)+1)\n",
    "    plt.imshow(img)\n",
    "    plt.title('Original Image {}'.format(i+1))\n",
    "    plt.subplot(n_show,2, (2*i)+2)\n",
    "    #print(rgb2gray([img])[0][:,:,0].shape)\n",
    "    plt.imshow(rgb2gray([img])[0][:,:,0], cmap='gray')\n",
    "    plt.title('Grayscaled Image {}'.format(i+1))\n",
    "\n",
    "plt.subplots_adjust(top=0.95)\n",
    "plt.savefig('Images/data_gray_sample.jpg')\n",
    "plt.show()   "
   ]
  },
  {
   "cell_type": "code",
   "execution_count": 6,
   "metadata": {},
   "outputs": [
    {
     "name": "stderr",
     "output_type": "stream",
     "text": [
      "C:\\Users\\user\\Anaconda3\\envs\\carnd-term1\\lib\\site-packages\\sklearn\\utils\\fixes.py:313: FutureWarning: numpy not_equal will not check object identity in the future. The comparison did not return the same result as suggested by the identity (`is`)) and will change.\n",
      "  _nan_object_mask = _nan_object_array != _nan_object_array\n"
     ]
    }
   ],
   "source": [
    "### Preprocess the data here. \n",
    "from image_edit import rgb2gray, normalize\n",
    "\n",
    "#shuffling the data\n",
    "from sklearn.utils import shuffle\n",
    "X_train, y_train = shuffle(X_train, y_train)\n",
    "X_train, y_train = shuffle(X_train, y_train)\n",
    "\n",
    "#normalizing and grayscaling data\n",
    "X_train_n = normalize(rgb2gray(X_train))\n",
    "X_valid_n = normalize(rgb2gray(X_valid))\n",
    "X_test_n = normalize(rgb2gray(X_test))\n",
    "    \n",
    "image_shape = X_train_n[0].shape"
   ]
  },
  {
   "cell_type": "markdown",
   "metadata": {},
   "source": [
    "### Model Architecture"
   ]
  },
  {
   "cell_type": "code",
   "execution_count": null,
   "metadata": {},
   "outputs": [],
   "source": [
    "#tensorflow setup\n",
    "import tensorflow as tf\n",
    "\n",
    "EPOCHS = 20\n",
    "BATCH_SIZE = 128"
   ]
  },
  {
   "cell_type": "code",
   "execution_count": null,
   "metadata": {},
   "outputs": [],
   "source": [
    "### Defining the first architecture here.\n",
    "#####LeNet architecture\n",
    "###### Note: The LeNet architecture is slightly modified here \n",
    "###### by adding dropout functionality to the fully connvected layers\n",
    "\n",
    "from tensorflow.contrib.layers import flatten\n",
    "\n",
    "def LeNet(x, keep_prob):    \n",
    "    # Arguments used for tf.truncated_normal, randomly defines variables for the weights and biases for each layer\n",
    "    mu = 0\n",
    "    sigma = 0.1\n",
    "    \n",
    "    inheight, inwidth, inchannels = image_shape\n",
    "        \n",
    "    #Layer 1: Convolutional. Input = image. Output = 28x28x6.\n",
    "    wc1height = inheight - 28 + 1\n",
    "    wc1width = inwidth - 28 + 1\n",
    "    wc1 = tf.Variable(tf.truncated_normal([wc1height, wc1width, inchannels, 6], dtype=tf.float32, mean=mu, stddev=sigma),\\\n",
    "                      name='LeNet-wc1')\n",
    "    bc1 = tf.Variable(tf.zeros([6], dtype=tf.float32), name='LeNet-bc1')\n",
    "    strides = [1, 1, 1, 1]\n",
    "    padding = 'VALID'\n",
    "    out_layer1 = tf.nn.bias_add(tf.nn.conv2d(x, wc1, strides, padding), bc1, name='LeNet-out_layer1')\n",
    "    \n",
    "    #Activation.\n",
    "    out_layer1 = tf.nn.relu(out_layer1, name='LeNet-out_layer1-relu')\n",
    "    \n",
    "    #Pooling. Input = 28x28x6. Output = 14x14x6.\n",
    "    out_layer1 = tf.nn.max_pool(out_layer1, [1, 2, 2, 1], strides=[1, 2, 2, 1], padding='SAME', name='LeNet-out_layer1-pool')\n",
    "    \n",
    "    #Layer 2: Convolutional. Output = 10x10x16.\n",
    "    wc2 = tf.Variable(tf.truncated_normal([5, 5, 6, 16], dtype=tf.float32, mean=mu, stddev=sigma), name='LeNet-wc2')\n",
    "    bc2 = tf.Variable(tf.zeros([16], dtype=tf.float32), name='LeNet-bc2')\n",
    "    strides = [1, 1, 1, 1]\n",
    "    padding = 'VALID'\n",
    "    out_layer2 = tf.nn.bias_add(tf.nn.conv2d(out_layer1, wc2, strides, padding), bc2, name='LeNet-out_layer2')\n",
    "    \n",
    "    #Activation.\n",
    "    out_layer2 = tf.nn.relu(out_layer2, name='LeNet-out_layer2-relu')\n",
    "    \n",
    "    #Pooling. Input = 10x10x16. Output = 5x5x16.\n",
    "    out_layer2 = tf.nn.max_pool(out_layer2, [1, 2, 2, 1], strides=[1, 2, 2, 1], padding='SAME', name='LeNet-out_layer2-pool')\n",
    "\n",
    "    #Flatten. Input = 5x5x16. Output = 400.\n",
    "    out_conv_layers = flatten(out_layer2)\n",
    "    \n",
    "    #Layer 3: Fully Connected. Input = 400. Output = 120.\n",
    "    wf1 = tf.Variable(tf.truncated_normal([400, 120], dtype=tf.float32, mean=mu, stddev=sigma), name='LeNet-wf1')\n",
    "    bf1 = tf.Variable(tf.zeros([120], dtype=tf.float32), name='LeNet-bf1')\n",
    "    out_layer3 = tf.add(tf.matmul(out_conv_layers, wf1), bf1, name='LeNet-out_layer3')\n",
    "    \n",
    "    #Activation.\n",
    "    out_layer3 = tf.nn.relu(out_layer3, name='LeNet-out_layer3-relu')\n",
    "    \n",
    "    #Dropout\n",
    "    out_layer3 = tf.nn.dropout(out_layer3, keep_prob, name='LeNet-out_layer3-dropout')\n",
    "    \n",
    "    \n",
    "    #Layer 4: Fully Connected. Input = 120. Output = 84.\n",
    "    wf2 = tf.Variable(tf.truncated_normal([120, 84], dtype=tf.float32, mean=mu, stddev=sigma), name='LeNet-wf2')\n",
    "    bf2 = tf.Variable(tf.zeros([84], dtype=tf.float32), name='LeNet-bf2')\n",
    "    out_layer4 = tf.add(tf.matmul(out_layer3, wf2), bf2, name='LeNet-out_layer4')\n",
    "    \n",
    "    #Activation.\n",
    "    out_layer4 = tf.nn.relu(out_layer4, name='LeNet-out_layer4-relu')\n",
    "    \n",
    "    #Droput\n",
    "    out_layer4 = tf.nn.dropout(out_layer4, keep_prob, name='LeNet-out_layer4-dropout')\n",
    "    \n",
    "    #Layer 5: Fully Connected. Input = 84. Output = n_classes.\n",
    "    wf3 = tf.Variable(tf.truncated_normal([84, n_classes], dtype=tf.float32, mean=mu, stddev=sigma), name='LeNet-wf3')\n",
    "    bf3 = tf.Variable(tf.zeros([n_classes], dtype=tf.float32), name='LeNet-bf3')\n",
    "    logits = tf.add(tf.matmul(out_layer4, wf3), bf3)\n",
    "    \n",
    "    return logits"
   ]
  },
  {
   "cell_type": "code",
   "execution_count": null,
   "metadata": {},
   "outputs": [],
   "source": [
    "​ Arguments used for tf.truncated_normal, randomly defines variables for the weights and biases for each layer\n",
    "    mu = 0\n",
    "    sigma = 0.1\n",
    "    \n",
    "    inheight, inwidth, inchannels = image_shape\n",
    "        \n",
    "    #Layer 1: Convolutional. Input = image. Output = 28x28x30.\n",
    "    wc1height = inheight - 28 + 1\n",
    "    wc1width = inwidth - 28 + 1\n",
    "    wc1 = tf.Variable(tf.truncated_normal([wc1height, wc1width, inchannels, 30], dtype=tf.float32, mean=mu, stddev=sigma),\\\n",
    "                     name='s2_Covnet-wc1')\n",
    "    bc1 = tf.Variable(tf.zeros([30], dtype=tf.float32), name='s2_Covnet-bc1')\n",
    "    strides = [1, 1, 1, 1]\n",
    "    padding = 'VALID'\n",
    "    out_layer1 = tf.nn.bias_add(tf.nn.conv2d(x, wc1, strides, padding), bc1, name='s2_Covnet-out_layer1')\n",
    "    \n",
    "    #Activation.\n",
    "    out_layer1 = tf.nn.relu(out_layer1, name='s2_Covnet-out_layer1-relu')\n",
    "    \n",
    "    #Pooling. Input = 28x28x30 Output = 14x14x30.\n",
    "    out_layer1 = tf.nn.max_pool(out_layer1, [1, 3, 3, 1], strides=[1, 2, 2, 1], padding='SAME', name='s2_Covnet-out_layer1-pool')\n",
    "    \n",
    "    #Layer 2: Convolutional. Output = 10x10x64.\n",
    "    wc2 = tf.Variable(tf.truncated_normal([5, 5, 30, 64], dtype=tf.float32, mean=mu, stddev=sigma), name='s2_Covnet-wc2')\n",
    "    bc2 = tf.Variable(tf.zeros([64], dtype=tf.float32), name='s2_Covnet-bc2')\n",
    "    strides = [1, 1, 1, 1]\n",
    "    padding = 'VALID'\n",
    "    out_layer2 = tf.nn.bias_add(tf.nn.conv2d(out_layer1, wc2, strides, padding), bc2, name='s2_Covnet-out_layer2')\n",
    "    \n",
    "    #Activation.\n",
    "    out_layer2 = tf.nn.relu(out_layer2, name='s2_Covnet-out_layer2-dropout')\n",
    "    \n",
    "    #Pooling. Input = 10x10x64. Output = 5x5x64.\n",
    "    out_layer2 = tf.nn.max_pool(out_layer2, [1, 3, 3, 1], strides=[1, 2, 2, 1], padding='SAME', name='s2_Covnet-out_layer2-pool')\n",
    "\n",
    "    #Flatten. Input = (the output of both convolutional layers). \n",
    "    out_conv_layers = tf.concat([flatten(out_layer1), flatten(out_layer2)], 1) #older api: out_conv_layers = tf.concat(1, [flatten(out_layer1), flatten(out_layer2)])\n",
    "    \n",
    "    #Layer 3: Fully Connected. Input = 7480. Output = 120.\n",
    "    wf1 = tf.Variable(tf.truncated_normal([7480, 120], dtype=tf.float32, mean=mu, stddev=sigma), name='s2_Covnet-wf1')\n",
    "    bf1 = tf.Variable(tf.zeros([120], dtype=tf.float32), name='s2_Covnet-bf1')\n",
    "    out_layer3 = tf.add(tf.matmul(out_conv_layers, wf1), bf1, name='s2_Covnet-out_layer3')\n",
    "    \n",
    "    #Activation.\n",
    "    out_layer3 = tf.nn.relu(out_layer3, name='s2_Covnet-out_layer3-relu')\n",
    "    \n",
    "    #Dropout\n",
    "    out_layer3 = tf.nn.dropout(out_layer3, keep_prob, name='s2_Covnet-out_layer3-dropout')\n",
    "        \n",
    "\n",
    "    #Classifier, Input:120, output: n_classes\n",
    "    wf2 = tf.Variable(tf.truncated_normal([120, n_classes], dtype=tf.float32, mean=mu, stddev=sigma), name='s2_Covnet-wf2')\n",
    "    bf2 = tf.Variable(tf.zeros([n_classes], dtype=tf.float32), name='s2_Covnet-bf2')\n",
    "    logits = tf.add(tf.matmul(out_layer3, wf2), bf2, name='logits_out')\n",
    "    \n",
    "    \n",
    "    return logits"
   ]
  },
  {
   "cell_type": "code",
   "execution_count": null,
   "metadata": {},
   "outputs": [],
   "source": [
    "#Features and labels\n",
    "x = tf.placeholder(tf.float32, (None, image_shape[0], image_shape[1], image_shape[2]), name='placeholder_x')\n",
    "y = tf.placeholder(tf.int32, (None), name='placeholder_y')\n",
    "one_hot_y = tf.one_hot(y, n_classes)\n",
    "\n",
    "#keeping probability for the dropout function\n",
    "keep_prob = tf.placeholder(tf.float32, name='keep_prob')"
   ]
  },
  {
   "cell_type": "code",
   "execution_count": null,
   "metadata": {
    "scrolled": false
   },
   "outputs": [],
   "source": [
    "#Training pipeline\n",
    "rate = 0.0005\n",
    "\n",
    "#Select which architecture to use for training and evaluation\n",
    "#logits = LeNet(x, keep_prob)\n",
    "logits = s2_Covnet(x, keep_prob) \n",
    "cross_entropy = tf.nn.softmax_cross_entropy_with_logits(labels=one_hot_y, logits=logits)\n",
    "loss_operation = tf.reduce_mean(cross_entropy)\n",
    "optimizer = tf.train.AdamOptimizer(learning_rate = rate)\n",
    "training_operation = optimizer.minimize(loss_operation)"
   ]
  },
  {
   "cell_type": "code",
   "execution_count": null,
   "metadata": {},
   "outputs": [],
   "source": [
    "#Evaluating accuracy of the model\n",
    "correct_prediction = tf.equal(tf.argmax(logits, 1), tf.argmax(one_hot_y, 1))\n",
    "accuracy_operation = tf.reduce_mean(tf.cast(correct_prediction, tf.float32), name='accuracy_operation')\n",
    "saver = tf.train.Saver()\n",
    "model_dir = 'model/Traffic_Sign_Classifier_LeNet'\n",
    "\n",
    "def evaluate(X_data, y_data):\n",
    "    num_examples = len(X_data)\n",
    "    total_accuracy = 0\n",
    "    sess = tf.get_default_session()\n",
    "    for offset in range(0, num_examples, BATCH_SIZE):\n",
    "        batch_x, batch_y = X_data[offset:offset+BATCH_SIZE], y_data[offset:offset+BATCH_SIZE]\n",
    "        accuracy = sess.run(accuracy_operation, feed_dict={x: batch_x, y: batch_y, keep_prob: 1})\n",
    "        total_accuracy += (accuracy * len(batch_x))\n",
    "    return total_accuracy / num_examples"
   ]
  },
  {
   "cell_type": "markdown",
   "metadata": {},
   "source": [
    "### Train, Validate and Test the Model"
   ]
  },
  {
   "cell_type": "markdown",
   "metadata": {},
   "source": [
    "A validation set can be used to assess how well the model is performing. A low accuracy on the training and validation\n",
    "sets imply underfitting. A high accuracy on the training set but low accuracy on the validation set implies overfitting."
   ]
  },
  {
   "cell_type": "code",
   "execution_count": null,
   "metadata": {},
   "outputs": [],
   "source": [
    "### Training and validating the model\n",
    "with tf.Session() as sess:\n",
    "    sess.run(tf.global_variables_initializer())\n",
    "    num_examples = len(X_train)\n",
    "    \n",
    "    print(\"Training...\")\n",
    "    print()\n",
    "    for i in range(EPOCHS):\n",
    "        X_train, X_train_n, y_train = shuffle(X_train, X_train_n, y_train)\n",
    "        for offset in range(0, num_examples, BATCH_SIZE):\n",
    "            end = offset + BATCH_SIZE\n",
    "            batch_x, batch_y = X_train_n[offset:end], y_train[offset:end]\n",
    "            sess.run(training_operation, feed_dict={x: batch_x, y: batch_y, keep_prob: 0.5})\n",
    "        \n",
    "        training_accuracy = evaluate(X_train_n, y_train)\n",
    "        validation_accuracy = evaluate(X_valid_n, y_valid)\n",
    "        print(\"EPOCH {} ...\".format(i+1))\n",
    "        print(\"Training Accuracy = {:.3f}\".format(training_accuracy))\n",
    "        print(\"Validation Accuracy = {:.3f}\".format(validation_accuracy))\n",
    "        print()\n",
    "        \n",
    "    saver.save(sess, model_dir)\n",
    "    print(\"Model saved\")"
   ]
  },
  {
   "cell_type": "code",
   "execution_count": null,
   "metadata": {},
   "outputs": [],
   "source": [
    "#Testing the model\n",
    "import tensorflow as tf \n",
    "\n",
    "model_meta = 'model/Traffic_Sign_Classifier_LeNet.meta'\n",
    "\n",
    "with tf.Session() as sess:\n",
    "    saver = tf.train.import_meta_graph(model_meta)      \n",
    "    saver.restore(sess, tf.train.latest_checkpoint('model'))\n",
    "    \n",
    "    #[print(n.name) for n in tf.get_default_graph().as_graph_def().node]\n",
    "    graph = tf.get_default_graph()\n",
    "       \n",
    "    accuracy_operation = graph.get_tensor_by_name('accuracy_operation:0') \n",
    "    BATCH_SIZE = 128\n",
    "    \n",
    "    x = graph.get_tensor_by_name('placeholder_x:0') \n",
    "    y = graph.get_tensor_by_name('placeholder_y:0') \n",
    "    keep_prob = graph.get_tensor_by_name('keep_prob:0')\n",
    "    \n",
    "    num_examples = len(X_test_n)\n",
    "    total_accuracy = 0\n",
    "    sess = tf.get_default_session()\n",
    "    for offset in range(0, num_examples, BATCH_SIZE):\n",
    "        batch_x, batch_y = X_test_n[offset:offset+BATCH_SIZE], y_test[offset:offset+BATCH_SIZE]\n",
    "        accuracy = sess.run(accuracy_operation, feed_dict={x: batch_x, y: batch_y, keep_prob: 1})\n",
    "        total_accuracy += (accuracy * len(batch_x))\n",
    "    test_accuracy = total_accuracy / num_examples\n",
    "    #test_accuracy = evaluate(X_test_n, y_test)\n",
    "    \n",
    "    print(\"Test Accuracy = {:.3f}\".format(test_accuracy))"
   ]
  },
  {
   "cell_type": "code",
   "execution_count": null,
   "metadata": {},
   "outputs": [],
   "source": [
    "#Read the csv file with the meaning of each label\n",
    "import csv\n",
    "\n",
    "#obtaining messages meaning from csv file\n",
    "signnames = csv.DictReader(open('signnames.csv'))\n",
    "signnameslist = []                            \n",
    "for row in signnames:\n",
    "    signnameslist.append(row['SignName'])\n",
    "    \n"
   ]
  },
  {
   "cell_type": "code",
   "execution_count": null,
   "metadata": {},
   "outputs": [],
   "source": [
    "#evaluate and plot random plots of the training set\n",
    "import random\n",
    "import numpy as np\n",
    "import matplotlib.pyplot as plt\n",
    "import math \n",
    "\n",
    "n_visualize = 6 #number of images to be plotted\n",
    "n_columns = 2 #number of columns in the figure\n",
    "n_rows = math.ceil(n_visualize/n_columns) #number of rows in the figure\n",
    "\n",
    "plt.figure(figsize=(15,15))\n",
    "plt.suptitle('Testing set sample', fontsize=16)\n",
    "\n",
    "for i in range(n_visualize):\n",
    "    #obtain random images from test set\n",
    "    index = random.randint(0,len(X_test))\n",
    "    test_img, test_img_n, test_label = X_test[index], X_test_n[index], y_test[index]\n",
    " \n",
    "    #evaluate selected image  \n",
    "    with tf.Session() as sess:\n",
    "        saver = tf.train.import_meta_graph(model_meta)\n",
    "        saver.restore(sess, tf.train.latest_checkpoint('model')) \n",
    "        \n",
    "        x = graph.get_tensor_by_name('placeholder_x:0') \n",
    "        keep_prob = graph.get_tensor_by_name('keep_prob:0')\n",
    "        logits = graph.get_tensor_by_name('logits_out:0')\n",
    "        \n",
    "        output = sess.run(logits, feed_dict={x: [test_img_n], keep_prob: 1})\n",
    "        \n",
    "    #Analyzing result\n",
    "    output = np.argmax(output)\n",
    "    output_msg = signnameslist[output]\n",
    "    actual_msg = signnameslist[test_label]\n",
    "    \n",
    "    plt.subplot(n_rows, n_columns, i+1)\n",
    "    plt.imshow(X_test[index])\n",
    "    plt.title((('Proposed classification: {}:'.format(output_msg) + '\\n' + 'Actual classification: {}'.format(actual_msg))))\n",
    "\n",
    "plt.subplots_adjust(top=0.9)\n",
    "plt.savefig('Images/testing_set_sample.jpg')\n",
    "plt.show()"
   ]
  },
  {
   "cell_type": "markdown",
   "metadata": {},
   "source": [
    "---\n",
    "\n",
    "## Step 3: Test a Model on New Images\n",
    "\n",
    "To give yourself more insight into how your model is working, download at least five pictures of German traffic signs from the web and use your model to predict the traffic sign type.\n",
    "\n",
    "You may find `signnames.csv` useful as it contains mappings from the class id (integer) to the actual sign name."
   ]
  },
  {
   "cell_type": "markdown",
   "metadata": {},
   "source": [
    "### Load and Output the Images"
   ]
  },
  {
   "cell_type": "code",
   "execution_count": null,
   "metadata": {},
   "outputs": [],
   "source": [
    "### Load the images and plot them here.\n",
    "import os\n",
    "import matplotlib.pyplot as plt\n",
    "import matplotlib.image as mpimg\n",
    "import numpy as np\n",
    "import cv2\n",
    "\n",
    "#read files\n",
    "files = os.listdir('Additional_test_images/')\n",
    "for file in files:\n",
    "    if(file[-4:].upper() != '.JPG'):\n",
    "        files.remove(file)\n",
    "\n",
    "n_imgs = len(files) #number of images in file\n",
    "n_columns = 2 #number of columns in the figure\n",
    "n_rows = math.ceil(n_imgs/n_columns) #number of rows in the figure\n",
    "imgs = []\n",
    "\n",
    "plt.figure(figsize=(6*n_columns,4*n_rows))\n",
    "plt.suptitle('Additional Images', fontsize=16)\n",
    "\n",
    "#read and show additional images for testing\n",
    "for i in range(n_imgs):\n",
    "    \n",
    "    #reading images\n",
    "    img = mpimg.imread('Additional_test_images/' + files[i])\n",
    "    \n",
    "    #resizing images to the shape of the training set\n",
    "    img = cv2.resize(img, (image_shape[0],image_shape[1]))\n",
    "    \n",
    "    imgs.append(img)\n",
    "    \n",
    "    #outputing images\n",
    "    plt.subplot(n_rows, n_columns, i+1)\n",
    "    plt.imshow(img)\n",
    "    plt.title('Sign: ' + files[i][:-4]) #the name of each image is it's meaning (removing .jpg)\n",
    "\n",
    "plt.subplots_adjust(top=0.95)\n",
    "plt.savefig('Images/additional_images.jpg')\n",
    "plt.show()"
   ]
  },
  {
   "cell_type": "code",
   "execution_count": null,
   "metadata": {},
   "outputs": [],
   "source": [
    "#Read the csv file with the meaning of each label\n",
    "import csv\n",
    "\n",
    "#obtaining message meaning from csv file\n",
    "signnames = csv.DictReader(open('signnames.csv'))\n",
    "signnameslist = []                            \n",
    "for row in signnames:\n",
    "    signnameslist.append(row['SignName'])\n",
    "    "
   ]
  },
  {
   "cell_type": "markdown",
   "metadata": {},
   "source": [
    "### Predict the Sign Type for Each Image"
   ]
  },
  {
   "cell_type": "code",
   "execution_count": null,
   "metadata": {},
   "outputs": [],
   "source": [
    "### Run the predictions here and use the model to output the prediction for each image.\n",
    "### Make sure to pre-process the images with the same pre-processing pipeline used earlier.\n",
    "### Preprocessing data\n",
    "from image_edit import normalize, rgb2gray\n",
    "\n",
    "#normalizing and grayscaling the image \n",
    "imgs_n = normalize(rgb2gray(imgs))\n",
    "\n",
    "    "
   ]
  },
  {
   "cell_type": "code",
   "execution_count": null,
   "metadata": {},
   "outputs": [],
   "source": [
    "#evaluate output\n",
    "\n",
    "#run evaluating model\n",
    "with tf.Session() as sess:\n",
    "    saver = tf.train.import_meta_graph(model_meta)\n",
    "    saver.restore(sess, tf.train.latest_checkpoint('model')) \n",
    "    \n",
    "    x = graph.get_tensor_by_name('placeholder_x:0') \n",
    "    keep_prob = graph.get_tensor_by_name('keep_prob:0')\n",
    "    logits = graph.get_tensor_by_name('logits_out:0')\n",
    "        \n",
    "    output = sess.run(logits, feed_dict={x: imgs_n, keep_prob: 1})\n",
    "\n",
    "#converting the logits obtained to message list\n",
    "output_msg = []\n",
    "for i in range(output.shape[0]):\n",
    "    output_msg.append(signnameslist[np.argmax(output[i])])"
   ]
  },
  {
   "cell_type": "code",
   "execution_count": null,
   "metadata": {},
   "outputs": [],
   "source": [
    "#visualizing results\n",
    "plt.figure(figsize=(6*n_columns,4*n_rows))\n",
    "plt.suptitle('Additional Images result', fontsize=16)\n",
    "\n",
    "for i in range(n_imgs):\n",
    "    #obtain random images from test set\n",
    "    plt.subplot(n_rows, n_columns, i+1)\n",
    "    plt.imshow(imgs[i])\n",
    "    plt.title(\"Result: {}\".format(output_msg[i]))\n",
    "\n",
    "plt.subplots_adjust(top=0.95)\n",
    "plt.savefig('Images/additional_images_result.jpg')\n",
    "plt.show()"
   ]
  },
  {
   "cell_type": "markdown",
   "metadata": {},
   "source": [
    "### Analyze Performance"
   ]
  },
  {
   "cell_type": "code",
   "execution_count": null,
   "metadata": {},
   "outputs": [],
   "source": [
    "### Calculate the accuracy for the new images. \n",
    "import re\n",
    "\n",
    "#Calculating number of correct outputs\n",
    "correct = 0\n",
    "for i in range(n_imgs):\n",
    "    prediction = re.sub('/', '', output_msg[i])\n",
    "    actual = files[i][:-4] \n",
    "    if (prediction.upper() == actual.upper()):\n",
    "        correct = correct + 1\n",
    "\n",
    "accuracy = (correct / n_imgs) * 100\n",
    "print('The accuracy of the prediction of the additional images is: {}%'.format(accuracy))"
   ]
  },
  {
   "cell_type": "markdown",
   "metadata": {},
   "source": [
    "### Output Top 5 Softmax Probabilities For Each Image Found on the Web"
   ]
  },
  {
   "cell_type": "markdown",
   "metadata": {},
   "source": [
    "For each of the new images, print out the model's softmax probabilities to show the **certainty** of the model's predictions (limit the output to the top 5 probabilities for each image). [`tf.nn.top_k`](https://www.tensorflow.org/versions/r0.12/api_docs/python/nn.html#top_k) could prove helpful here. \n",
    "\n",
    "The example below demonstrates how tf.nn.top_k can be used to find the top k predictions for each image.\n",
    "\n",
    "`tf.nn.top_k` will return the values and indices (class ids) of the top k predictions. So if k=3, for each sign, it'll return the 3 largest probabilities (out of a possible 43) and the correspoding class ids.\n",
    "\n",
    "Take this numpy array as an example. The values in the array represent predictions. The array contains softmax probabilities for five candidate images with six possible classes. `tf.nn.top_k` is used to choose the three classes with the highest probability:\n",
    "\n",
    "```\n",
    "# (5, 6) array\n",
    "a = np.array([[ 0.24879643,  0.07032244,  0.12641572,  0.34763842,  0.07893497,\n",
    "         0.12789202],\n",
    "       [ 0.28086119,  0.27569815,  0.08594638,  0.0178669 ,  0.18063401,\n",
    "         0.15899337],\n",
    "       [ 0.26076848,  0.23664738,  0.08020603,  0.07001922,  0.1134371 ,\n",
    "         0.23892179],\n",
    "       [ 0.11943333,  0.29198961,  0.02605103,  0.26234032,  0.1351348 ,\n",
    "         0.16505091],\n",
    "       [ 0.09561176,  0.34396535,  0.0643941 ,  0.16240774,  0.24206137,\n",
    "         0.09155967]])\n",
    "```\n",
    "\n",
    "Running it through `sess.run(tf.nn.top_k(tf.constant(a), k=3))` produces:\n",
    "\n",
    "```\n",
    "TopKV2(values=array([[ 0.34763842,  0.24879643,  0.12789202],\n",
    "       [ 0.28086119,  0.27569815,  0.18063401],\n",
    "       [ 0.26076848,  0.23892179,  0.23664738],\n",
    "       [ 0.29198961,  0.26234032,  0.16505091],\n",
    "       [ 0.34396535,  0.24206137,  0.16240774]]), indices=array([[3, 0, 5],\n",
    "       [0, 1, 4],\n",
    "       [0, 5, 1],\n",
    "       [1, 3, 5],\n",
    "       [1, 4, 3]], dtype=int32))\n",
    "```\n",
    "\n",
    "Looking just at the first row we get `[ 0.34763842,  0.24879643,  0.12789202]`, you can confirm these are the 3 largest probabilities in `a`. You'll also notice `[3, 0, 5]` are the corresponding indices."
   ]
  },
  {
   "cell_type": "code",
   "execution_count": null,
   "metadata": {},
   "outputs": [],
   "source": [
    "### Print out the top five softmax probabilities for the predictions on the German traffic sign images found on the web. \n",
    "\n",
    "#obtaining the softmax probabolties\n",
    "with tf.Session() as sess:\n",
    "    top_output = sess.run(tf.nn.top_k(tf.nn.softmax(output), k=5))\n",
    "\n",
    "plt.figure(figsize=(20,4*n_imgs))\n",
    "plt.suptitle('Softmax Probabilities for additional images', fontsize=16)\n",
    "\n",
    "#displaying the softmax probabilties for all images\n",
    "for i in range(0,len(top_output[0])):\n",
    "    #print('The top 5 softmax probabilities for image: {}  are: {}'.format(i+1, top_output[0][i]))\n",
    "    output_msgs =[]\n",
    "    for output_msg in top_output[1][i]:\n",
    "        output_msgs.append(signnameslist[output_msg])\n",
    "    #print('The corresponding messages for image {}: are: {}'.format(i+1, output_msgs))\n",
    "    plt.subplot(n_imgs, 2, (2*i)+1)\n",
    "    plt.imshow(imgs[i])\n",
    "    plt.subplot(n_imgs, 2, (2*i)+2)\n",
    "    #print(len(top_output[0][i]))\n",
    "    plt.barh(range(5), top_output[0][i])\n",
    "    plt.yticks(range(5), output_msgs)\n",
    "    plt.gca().invert_yaxis()\n",
    "\n",
    "plt.subplots_adjust(top=0.95)\n",
    "plt.savefig('Images/softmax_probabilities.jpg')\n",
    "plt.show()"
   ]
  },
  {
   "cell_type": "markdown",
   "metadata": {},
   "source": [
    "### Project Writeup\n",
    "\n",
    "Once you have completed the code implementation, document your results in a project writeup using this [template](https://github.com/udacity/CarND-Traffic-Sign-Classifier-Project/blob/master/writeup_template.md) as a guide. The writeup can be in a markdown or pdf file. "
   ]
  },
  {
   "cell_type": "markdown",
   "metadata": {},
   "source": [
    "> **Note**: Once you have completed all of the code implementations and successfully answered each question above, you may finalize your work by exporting the iPython Notebook as an HTML document. You can do this by using the menu above and navigating to  \\n\",\n",
    "    \"**File -> Download as -> HTML (.html)**. Include the finished document along with this notebook as your submission."
   ]
  },
  {
   "cell_type": "markdown",
   "metadata": {},
   "source": [
    "---\n",
    "\n",
    "## Step 4 (Optional): Visualize the Neural Network's State with Test Images\n",
    "\n",
    " This Section is not required to complete but acts as an additional excersise for understaning the output of a neural network's weights. While neural networks can be a great learning device they are often referred to as a black box. We can understand what the weights of a neural network look like better by plotting their feature maps. After successfully training your neural network you can see what it's feature maps look like by plotting the output of the network's weight layers in response to a test stimuli image. From these plotted feature maps, it's possible to see what characteristics of an image the network finds interesting. For a sign, maybe the inner network feature maps react with high activation to the sign's boundary outline or to the contrast in the sign's painted symbol.\n",
    "\n",
    " Provided for you below is the function code that allows you to get the visualization output of any tensorflow weight layer you want. The inputs to the function should be a stimuli image, one used during training or a new one you provided, and then the tensorflow variable name that represents the layer's state during the training process, for instance if you wanted to see what the [LeNet lab's](https://classroom.udacity.com/nanodegrees/nd013/parts/fbf77062-5703-404e-b60c-95b78b2f3f9e/modules/6df7ae49-c61c-4bb2-a23e-6527e69209ec/lessons/601ae704-1035-4287-8b11-e2c2716217ad/concepts/d4aca031-508f-4e0b-b493-e7b706120f81) feature maps looked like for it's second convolutional layer you could enter conv2 as the tf_activation variable.\n",
    "\n",
    "For an example of what feature map outputs look like, check out NVIDIA's results in their paper [End-to-End Deep Learning for Self-Driving Cars](https://devblogs.nvidia.com/parallelforall/deep-learning-self-driving-cars/) in the section Visualization of internal CNN State. NVIDIA was able to show that their network's inner weights had high activations to road boundary lines by comparing feature maps from an image with a clear path to one without. Try experimenting with a similar test to show that your trained network's weights are looking for interesting features, whether it's looking at differences in feature maps from images with or without a sign, or even what feature maps look like in a trained network vs a completely untrained one on the same sign image.\n",
    "\n",
    "<figure>\n",
    " <img src=\"visualize_cnn.png\" width=\"380\" alt=\"Combined Image\" />\n",
    " <figcaption>\n",
    " <p></p> \n",
    " <p style=\"text-align: center;\"> Your output should look something like this (above)</p> \n",
    " </figcaption>\n",
    "</figure>\n",
    " <p></p> \n"
   ]
  },
  {
   "cell_type": "code",
   "execution_count": null,
   "metadata": {},
   "outputs": [],
   "source": [
    "### Visualize your network's feature maps here.\n",
    "# image_input: the test image being fed into the network to produce the feature maps\n",
    "# tf_activation: should be a tf variable name used during your training procedure that represents the calculated state of a specific weight layer\n",
    "# activation_min/max: can be used to view the activation contrast in more detail, by default matplot sets min and max to the actual min and max values of the output\n",
    "# plt_num: used to plot out multiple different weight feature map sets on the same block, just extend the plt number for each new feature map entry\n",
    "\n",
    "def outputFeatureMap(image_input, tf_activation, activation_min=-1, activation_max=-1 ,plt_num=1):\n",
    "    # Here make sure to preprocess your image_input in a way your network expects\n",
    "    # with size, normalization, ect if needed\n",
    "    # image_input =\n",
    "    # Note: x should be the same name as your network's tensorflow data placeholder variable\n",
    "    # If you get an error tf_activation is not defined it may be having trouble accessing the variable from inside a function\n",
    "    activation = tf_activation.eval(session=sess, feed_dict={x: image_input, keep_prob: 1})\n",
    "    print(activation.shape)\n",
    "    featuremaps = activation.shape[3]\n",
    "    plt.figure(plt_num, figsize=(40,40))\n",
    "    for featuremap in range(featuremaps):\n",
    "        plt.subplot(10,7, featuremap+1) # sets the number of feature maps to show on each row and column\n",
    "        plt.title('FeatureMap ' + str(featuremap)) # displays the feature map number\n",
    "        if activation_min != -1 & activation_max != -1:\n",
    "            plt.imshow(activation[0,:,:, featuremap], interpolation=\"nearest\", vmin =activation_min, vmax=activation_max, cmap=\"gray\")\n",
    "        elif activation_max != -1:\n",
    "            plt.imshow(activation[0,:,:, featuremap], interpolation=\"nearest\", vmax=activation_max, cmap=\"gray\")\n",
    "        elif activation_min !=-1:\n",
    "            plt.imshow(activation[0,:,:, featuremap], interpolation=\"nearest\", vmin=activation_min, cmap=\"gray\")\n",
    "        else:\n",
    "            plt.imshow(activation[0,:,:, featuremap], interpolation=\"nearest\", cmap=\"gray\")"
   ]
  },
  {
   "cell_type": "code",
   "execution_count": null,
   "metadata": {},
   "outputs": [],
   "source": [
    "#selecting and showing an image\n",
    "import random\n",
    "\n",
    "index = random.randint(0,n_train)\n",
    "trial_image = X_train[index]\n",
    "trial_image_n = X_train_n[index]\n",
    "\n",
    "plt.imshow(trial_image)\n",
    "plt.savefig('Images/vis_sample_img.jpg')\n",
    "plt.show()"
   ]
  },
  {
   "cell_type": "code",
   "execution_count": null,
   "metadata": {},
   "outputs": [],
   "source": [
    "#Visualizing first convolutional layer\n",
    "\n",
    "with tf.Session() as sess:\n",
    "    # Convolution (layer 1 after 'tf.nn.conv2d' operation)\n",
    "    saver.restore(sess, tf.train.latest_checkpoint('.'))\n",
    "    conv1 = sess.graph.get_tensor_by_name('s2_Covnet-out_layer1:0')\n",
    "    outputFeatureMap([trial_image_n], conv1)\n",
    "    plt.suptitle('Visualization of first covnet layer', fontsize=22)\n",
    "    plt.subplots_adjust(top=0.95)\n",
    "    plt.savefig('Images/first_covnet_layer')\n",
    "    plt.show()"
   ]
  },
  {
   "cell_type": "code",
   "execution_count": null,
   "metadata": {},
   "outputs": [],
   "source": [
    "#Visualizing second convolutional layer\n",
    "with tf.Session() as sess:\n",
    "    # Convolution (layer 1 after 'tf.nn.conv2d' operation)\n",
    "    saver.restore(sess, tf.train.latest_checkpoint('.'))\n",
    "    conv1 = sess.graph.get_tensor_by_name('s2_Covnet-out_layer2:0')\n",
    "    outputFeatureMap([trial_image_n], conv1)\n",
    "    plt.suptitle('Visualization of second covnet layer', fontsize=22)\n",
    "    plt.subplots_adjust(top=0.95)\n",
    "    plt.savefig('Images/second_covnet_layer')\n",
    "    plt.show()"
   ]
  },
  {
   "cell_type": "code",
   "execution_count": null,
   "metadata": {},
   "outputs": [],
   "source": []
  }
 ],
 "metadata": {
  "anaconda-cloud": {},
  "kernelspec": {
   "display_name": "Python 3",
   "language": "python",
   "name": "python3"
  },
  "language_info": {
   "codemirror_mode": {
    "name": "ipython",
    "version": 3
   },
   "file_extension": ".py",
   "mimetype": "text/x-python",
   "name": "python",
   "nbconvert_exporter": "python",
   "pygments_lexer": "ipython3",
   "version": "3.5.2"
  },
  "widgets": {
   "state": {},
   "version": "1.1.2"
  }
 },
 "nbformat": 4,
 "nbformat_minor": 1
}
